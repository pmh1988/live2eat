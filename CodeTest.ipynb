{
 "cells": [
  {
   "cell_type": "code",
   "execution_count": 3,
   "metadata": {},
   "outputs": [
    {
     "ename": "SyntaxError",
     "evalue": "invalid syntax (2961497617.py, line 11)",
     "output_type": "error",
     "traceback": [
      "\u001b[0;36m  File \u001b[0;32m\"/tmp/ipykernel_1908/2961497617.py\"\u001b[0;36m, line \u001b[0;32m11\u001b[0m\n\u001b[0;31m    gcs_uri = gs://videozzz/Food.mp4\u001b[0m\n\u001b[0m                ^\u001b[0m\n\u001b[0;31mSyntaxError\u001b[0m\u001b[0;31m:\u001b[0m invalid syntax\n"
     ]
    }
   ],
   "source": [
    "from google.cloud import videointelligence\n",
    "import time\n",
    "\n",
    "# if option == \"Bak Chor Mee\":\n",
    "#     gcs_uri = gs://videozzz/Food.mp4\n",
    "# if option == 2:\n",
    "#     gcs_uri = gs://videozzz/Food.mp4\n",
    "# elif option == 3:\n",
    "#     gcs_uri = gs://videozzz/Food.mp4\n",
    "\n",
    "gcs_uri = gs://videozzz/Food.mp4\n",
    "\n",
    "video_client = videointelligence.VideoIntelligenceServiceClient.from_service_account_file(\n",
    "    \"video-ai-testing-369602-124358c1f5fa.json\")\n",
    "\n",
    "features = [\n",
    "    videointelligence.Feature.OBJECT_TRACKING,\n",
    "    videointelligence.Feature.SPEECH_TRANSCRIPTION\n",
    "    # videointelligence.Feature.LABEL_DETECTION,\n",
    "    # videointelligence.Feature.SHOT_CHANGE_DETECTION,\n",
    "    # videointelligence.Feature.LOGO_RECOGNITION,\n",
    "    # videointelligence.Feature.EXPLICIT_CONTENT_DETECTION,\n",
    "    # videointelligence.Feature.TEXT_DETECTION,\n",
    "    # videointelligence.Feature.FACE_DETECTION,\n",
    "    # videointelligence.Feature.PERSON_DETECTION\n",
    "]\n",
    "\n",
    "transcript_config = videointelligence.SpeechTranscriptionConfig(\n",
    "    language_code=\"en-US\", enable_automatic_punctuation=True)\n",
    "\n",
    "# person_config = videointelligence.PersonDetectionConfig(\n",
    "#     include_bounding_boxes=True,\n",
    "#     include_attributes=False,\n",
    "#     include_pose_landmarks=True,\n",
    "# )\n",
    "\n",
    "# face_config = videointelligence.FaceDetectionConfig(\n",
    "#     include_bounding_boxes=True, include_attributes=True\n",
    "# )\n",
    "\n",
    "video_context = videointelligence.VideoContext(\n",
    "    speech_transcription_config=transcript_config,\n",
    "    person_detection_config=person_config,\n",
    "    face_detection_config=face_config)\n",
    "\n",
    "operation = video_client.annotate_video(\n",
    "    request={\n",
    "        \"features\": features,\n",
    "        \"input_uri\": gcs_uri,\n",
    "        \"output_uri\": output_uri,\n",
    "        \"video_context\": video_context\n",
    "    })\n",
    "\n",
    "print(\"\\nProcessing video.\", operation)\n",
    "\n",
    "result = operation.result(timeout=300)\n",
    "\n",
    "print(\"\\n finnished processing.\")\n",
    "\n",
    "output_uri = \"gs://videozzz/output - {}.json\".format(time.time())\n",
    "\n",
    "return output_uri"
   ]
  }
 ],
 "metadata": {
  "kernelspec": {
   "display_name": "Python 3.8.12 64-bit ('shims')",
   "language": "python",
   "name": "python3"
  },
  "language_info": {
   "codemirror_mode": {
    "name": "ipython",
    "version": 3
   },
   "file_extension": ".py",
   "mimetype": "text/x-python",
   "name": "python",
   "nbconvert_exporter": "python",
   "pygments_lexer": "ipython3",
   "version": "3.8.12"
  },
  "orig_nbformat": 4,
  "vscode": {
   "interpreter": {
    "hash": "5761d855ca21446ecc51371e55e47d643da8eef461a29076bbb3287caa1f3dca"
   }
  }
 },
 "nbformat": 4,
 "nbformat_minor": 2
}
